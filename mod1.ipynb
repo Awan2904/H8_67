{
 "cells": [
  {
   "cell_type": "code",
   "execution_count": 1,
   "id": "a7e950b8",
   "metadata": {},
   "outputs": [],
   "source": [
    "def foo(): \n",
    "    print('[mod] foo()')\n",
    "\n",
    "class Foo: \n",
    "    pass"
   ]
  },
  {
   "cell_type": "code",
   "execution_count": null,
   "id": "b151461b",
   "metadata": {},
   "outputs": [],
   "source": []
  }
 ],
 "metadata": {
  "kernelspec": {
   "display_name": "Python 3",
   "language": "python",
   "name": "python3"
  },
  "language_info": {
   "codemirror_mode": {
    "name": "ipython",
    "version": 3
   },
   "file_extension": ".py",
   "mimetype": "text/x-python",
   "name": "python",
   "nbconvert_exporter": "python",
   "pygments_lexer": "ipython3",
   "version": "3.8.8"
  }
 },
 "nbformat": 4,
 "nbformat_minor": 5
}
