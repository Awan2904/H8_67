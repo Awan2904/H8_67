{
 "cells": [
  {
   "cell_type": "code",
   "execution_count": 45,
   "id": "f69948ea",
   "metadata": {},
   "outputs": [
    {
     "ename": "SyntaxError",
     "evalue": "invalid syntax (<ipython-input-45-1288dc882fe9>, line 1)",
     "output_type": "error",
     "traceback": [
      "\u001b[1;36m  File \u001b[1;32m\"<ipython-input-45-1288dc882fe9>\"\u001b[1;36m, line \u001b[1;32m1\u001b[0m\n\u001b[1;33m    == #equal\u001b[0m\n\u001b[1;37m    ^\u001b[0m\n\u001b[1;31mSyntaxError\u001b[0m\u001b[1;31m:\u001b[0m invalid syntax\n"
     ]
    }
   ],
   "source": [
    "== #equal\n",
    "!=  #not equal\n",
    "> \n",
    "<= \n",
    ">= "
   ]
  },
  {
   "cell_type": "code",
   "execution_count": 46,
   "id": "b86cb017",
   "metadata": {},
   "outputs": [],
   "source": [
    "##If statement itu hasilnya Boolean "
   ]
  },
  {
   "cell_type": "code",
   "execution_count": 47,
   "id": "f8751ec5",
   "metadata": {},
   "outputs": [
    {
     "name": "stdout",
     "output_type": "stream",
     "text": [
      "jangan pergi keluar\n",
      "tetap di rumah\n"
     ]
    }
   ],
   "source": [
    "cuaca = 'hujan' \n",
    "if cuaca != 'cerah':\n",
    "    print('jangan pergi keluar')\n",
    "    print('tetap di rumah') "
   ]
  },
  {
   "cell_type": "code",
   "execution_count": 48,
   "id": "8f0e1118",
   "metadata": {},
   "outputs": [
    {
     "name": "stdout",
     "output_type": "stream",
     "text": [
      "benar\n"
     ]
    }
   ],
   "source": [
    "x = 1 \n",
    "\n",
    "if x >= 1:\n",
    "    print('benar')"
   ]
  },
  {
   "cell_type": "code",
   "execution_count": 49,
   "id": "008b7672",
   "metadata": {},
   "outputs": [
    {
     "name": "stdout",
     "output_type": "stream",
     "text": [
      "benar\n",
      "betul\n",
      "tepat\n",
      "OK\n",
      "benar sekali\n",
      "ngokhey\n"
     ]
    }
   ],
   "source": [
    "x = 1 \n",
    "y = 10 \n",
    "if x >= 1: #expression 1 \n",
    "    print('benar') #statement 1 \n",
    "    print('betul') #statement 2 \n",
    "    print('tepat') #statement 3 \n",
    "    \n",
    "    if y == 10: #expression 2 \n",
    "        print('OK') #statement 1 \n",
    "        \n",
    "        if x == 1: #expression 3 \n",
    "            print('benar sekali')\n",
    "\n",
    "print('ngokhey')"
   ]
  },
  {
   "cell_type": "code",
   "execution_count": 50,
   "id": "d81376ca",
   "metadata": {},
   "outputs": [
    {
     "name": "stdout",
     "output_type": "stream",
     "text": [
      "Outer condition is true\n",
      "Inner condition 3\n"
     ]
    }
   ],
   "source": [
    "if 'foo' in ['foo', 'bar', 'baz']: # E1 terpenuhi \n",
    "    print('Outer condition is true') # statement 1 jalan \n",
    "    \n",
    "    if 10 > 20: #E2 tidak terpenuhi \n",
    "        print('Inner condition 2') #statemen 2 tidak jalan \n",
    "        \n",
    "    if 10 < 20: #E3 terpenuhi \n",
    "        print('Inner condition 3') #statement 3 jalan \n",
    "        \n",
    "    "
   ]
  },
  {
   "cell_type": "code",
   "execution_count": 51,
   "id": "0a452cbf",
   "metadata": {},
   "outputs": [
    {
     "name": "stdout",
     "output_type": "stream",
     "text": [
      "NOT\n"
     ]
    }
   ],
   "source": [
    "x = 10 \n",
    "\n",
    "if x < 10: \n",
    "    print('OK') \n",
    "else: \n",
    "    print('NOT')"
   ]
  },
  {
   "cell_type": "code",
   "execution_count": 52,
   "id": "fa90aab4",
   "metadata": {},
   "outputs": [
    {
     "name": "stdout",
     "output_type": "stream",
     "text": [
      "this1\n"
     ]
    }
   ],
   "source": [
    "y = 100 \n",
    "\n",
    "if y == 90: \n",
    "    print('OK') \n",
    "    \n",
    "elif y == 80: \n",
    "    print('this')\n",
    "    \n",
    "elif y == 100: \n",
    "    print('this1')\n",
    "\n",
    "elif y == 20: \n",
    "    print('this2')\n",
    "    \n",
    "else: \n",
    "    print('NOT')"
   ]
  },
  {
   "cell_type": "code",
   "execution_count": null,
   "id": "86aa71d3",
   "metadata": {},
   "outputs": [],
   "source": []
  },
  {
   "cell_type": "code",
   "execution_count": 53,
   "id": "e1b2467d",
   "metadata": {},
   "outputs": [
    {
     "name": "stdout",
     "output_type": "stream",
     "text": [
      "beli_pulpen\n"
     ]
    }
   ],
   "source": [
    "harga_buku = 20000 \n",
    "harga_majalah = 5000 \n",
    "uang = 2000 \n",
    "harga_pulpen = 1000 \n",
    "\n",
    "if uang > harga_buku: \n",
    "    print('beli_buku') \n",
    "    \n",
    "elif uang > harga_pulpen: \n",
    "    print('beli_pulpen')\n",
    "    \n",
    "else: \n",
    "    print('gak cukup uangnya')"
   ]
  },
  {
   "cell_type": "code",
   "execution_count": 54,
   "id": "03a8a8f2",
   "metadata": {},
   "outputs": [
    {
     "name": "stdout",
     "output_type": "stream",
     "text": [
      "Hai Hack\n"
     ]
    }
   ],
   "source": [
    "name = 'Hacktiv8'\n",
    "\n",
    "if name == 'Fred': \n",
    "    print('Hai Fred')   \n",
    "elif name == 'Xander': \n",
    "    print('Hai Xander')\n",
    "elif name == ('Hacktiv8'):\n",
    "    print('Hai Hack') \n",
    "else: \n",
    "    print('Who are you?')"
   ]
  },
  {
   "cell_type": "code",
   "execution_count": 55,
   "id": "0ff592fb",
   "metadata": {},
   "outputs": [
    {
     "name": "stdout",
     "output_type": "stream",
     "text": [
      "Hai Hack\n",
      "how are you?\n",
      "are you hungry?\n"
     ]
    }
   ],
   "source": [
    "if name == 'Hacktiv8': print('Hai Hack'); print('how are you?'); print('are you hungry?')"
   ]
  },
  {
   "cell_type": "code",
   "execution_count": 56,
   "id": "b76af88d",
   "metadata": {},
   "outputs": [
    {
     "name": "stdout",
     "output_type": "stream",
     "text": [
      "Salah\n"
     ]
    }
   ],
   "source": [
    "a = 1 \n",
    "b = 2 \n",
    "c = 3 \n",
    "y = 50 \n",
    "\n",
    "x = 'Benar' if y == 10 else 'Salah'\n",
    "print(x)"
   ]
  },
  {
   "cell_type": "code",
   "execution_count": 57,
   "id": "b1d3238a",
   "metadata": {},
   "outputs": [
    {
     "name": "stdout",
     "output_type": "stream",
     "text": [
      "ngkohey\n",
      "iyeeee\n"
     ]
    }
   ],
   "source": [
    "x = 2 \n",
    "\n",
    "if x == 1: \n",
    "    print('foo')\n",
    "    print('bar')\n",
    "    print('baz')\n",
    "    \n",
    "elif x == 2: \n",
    "    print('ngkohey')\n",
    "    print('iyeeee') \n",
    "    \n",
    "else: \n",
    "    print('hoho') \n",
    "    print('hihi')"
   ]
  },
  {
   "cell_type": "code",
   "execution_count": 58,
   "id": "3eeacf43",
   "metadata": {},
   "outputs": [
    {
     "name": "stdout",
     "output_type": "stream",
     "text": [
      "False\n",
      "True ['B'] ['C']\n",
      "True {'B'} {'C'}\n"
     ]
    }
   ],
   "source": [
    "print('A' not in 'ABC') \n",
    "print('A' in ['A'],['B'],['C'])\n",
    "print('A' in {'A'},{'B'},{'C'})"
   ]
  },
  {
   "cell_type": "code",
   "execution_count": 59,
   "id": "d32cd5d8",
   "metadata": {},
   "outputs": [
    {
     "name": "stdout",
     "output_type": "stream",
     "text": [
      "Ayo ke pantai\n",
      "-----------------------------\n",
      "kuy lah pantai\n"
     ]
    }
   ],
   "source": [
    "hujan = False \n",
    "print('Ayo ke', 'pantai' if not hujan else 'di rumah aje')\n",
    "\n",
    "print('-'*29)\n",
    "if not hujan: \n",
    "    print('kuy lah pantai') \n",
    "else: \n",
    "    print('di rumah aje')"
   ]
  },
  {
   "cell_type": "code",
   "execution_count": 60,
   "id": "2f16c76d",
   "metadata": {},
   "outputs": [
    {
     "name": "stdout",
     "output_type": "stream",
     "text": [
      "Ayo di rumah aje\n",
      "-----------------------------\n",
      "Kuy di rumah aje\n"
     ]
    }
   ],
   "source": [
    "hujan = True \n",
    "print('Ayo', 'pantai' if not hujan else 'di rumah aje')\n",
    "\n",
    "print('-'*29)\n",
    "\n",
    "abcd = 'Kuy'\n",
    "if not hujan: \n",
    "    print(abcd, 'lah ke pantai') \n",
    "else: \n",
    "    print(abcd, 'di rumah aje')"
   ]
  },
  {
   "cell_type": "code",
   "execution_count": 61,
   "id": "f8bd9084",
   "metadata": {},
   "outputs": [
    {
     "name": "stdout",
     "output_type": "stream",
     "text": [
      "berenang\n"
     ]
    }
   ],
   "source": [
    "# cerah, berawab, hujan, mendung, terik \n",
    "\"\"\"\n",
    "cerah -> main bola \n",
    "berawan -> brenang \n",
    "hujan -> di rumah aje\n",
    "mendung -> jalan-jalan\n",
    "terik -> tidur\n",
    "\"\"\"\n",
    "cuaca = 'hujan' \n",
    "aktivitas = 'Main Bola' if cuaca == 'cerah' else 'berenang'\n",
    "print(aktivitas)"
   ]
  },
  {
   "cell_type": "code",
   "execution_count": 62,
   "id": "e963b296",
   "metadata": {},
   "outputs": [
    {
     "data": {
      "text/plain": [
       "'no'"
      ]
     },
     "execution_count": 62,
     "metadata": {},
     "output_type": "execute_result"
    }
   ],
   "source": [
    "'yes' if ('qux' in ['foo', 'bar', 'baz']) else 'no'"
   ]
  },
  {
   "cell_type": "code",
   "execution_count": 63,
   "id": "427c80ff",
   "metadata": {},
   "outputs": [],
   "source": [
    "## Pass Statement "
   ]
  },
  {
   "cell_type": "code",
   "execution_count": 64,
   "id": "52246d1b",
   "metadata": {},
   "outputs": [],
   "source": [
    "## Looping/Iterasi"
   ]
  },
  {
   "cell_type": "code",
   "execution_count": 65,
   "id": "13d4b0b7",
   "metadata": {},
   "outputs": [
    {
     "name": "stdout",
     "output_type": "stream",
     "text": [
      "foo\n"
     ]
    }
   ],
   "source": [
    "if True: \n",
    "    pass \n",
    "print('foo')"
   ]
  },
  {
   "cell_type": "code",
   "execution_count": 66,
   "id": "7c5a601c",
   "metadata": {},
   "outputs": [],
   "source": [
    "# while True: \n",
    "#    print('A')"
   ]
  },
  {
   "cell_type": "code",
   "execution_count": 67,
   "id": "067193c2",
   "metadata": {},
   "outputs": [
    {
     "name": "stdout",
     "output_type": "stream",
     "text": [
      "n = 0\n",
      "--------------------\n",
      "A0\n",
      "A1\n",
      "A2\n",
      "A3\n",
      "A4\n",
      "A5\n",
      "A6\n",
      "A7\n",
      "A8\n",
      "A9\n",
      "--------------------\n",
      "n - 10\n"
     ]
    }
   ],
   "source": [
    "n = 0 \n",
    "print('n =', n) \n",
    "print('-'*20)\n",
    "while True: \n",
    "    print ('A{}'.format(n))\n",
    "    n += 1 \n",
    "    if n == 10: \n",
    "        break \n",
    "print('-'*20)\n",
    "print('n -', n)"
   ]
  },
  {
   "cell_type": "code",
   "execution_count": 68,
   "id": "e0a37939",
   "metadata": {},
   "outputs": [
    {
     "name": "stdout",
     "output_type": "stream",
     "text": [
      "4\n",
      "3\n",
      "2\n",
      "1\n",
      "0\n"
     ]
    }
   ],
   "source": [
    "n = 5 \n",
    "while n > 0: \n",
    "    n -= 1 \n",
    "    print(n)"
   ]
  },
  {
   "cell_type": "code",
   "execution_count": 69,
   "id": "4f480ed5",
   "metadata": {},
   "outputs": [
    {
     "name": "stdout",
     "output_type": "stream",
     "text": [
      "4\n",
      "3\n",
      "1\n",
      "0\n",
      "Loop ended\n"
     ]
    }
   ],
   "source": [
    "n = 5 \n",
    "while n > 0: \n",
    "    n -= 1 \n",
    "    if n == 2: \n",
    "        continue\n",
    "    print(n)\n",
    "print('Loop ended')"
   ]
  },
  {
   "cell_type": "code",
   "execution_count": 70,
   "id": "048ba41c",
   "metadata": {},
   "outputs": [
    {
     "name": "stdout",
     "output_type": "stream",
     "text": [
      "4\n",
      "3\n",
      "Loop ended\n"
     ]
    }
   ],
   "source": [
    "n = 5 \n",
    "while n > 0: \n",
    "    n -= 1 \n",
    "    if n == 2: \n",
    "        break\n",
    "    print(n)\n",
    "print('Loop ended')"
   ]
  },
  {
   "cell_type": "code",
   "execution_count": 71,
   "id": "01da511b",
   "metadata": {},
   "outputs": [
    {
     "name": "stdout",
     "output_type": "stream",
     "text": [
      "ambil tweet ke-1\n",
      "Tweet aman.\n",
      "\n",
      "ambil tweet ke-2\n",
      "Tweet aman.\n",
      "\n",
      "ambil tweet ke-3\n",
      "Tweet aman.\n",
      "\n",
      "ambil tweet ke-4\n",
      "Tweet aman.\n",
      "\n",
      "ambil tweet ke-5ROKOK\n",
      "Warning\n",
      "\n"
     ]
    }
   ],
   "source": [
    "nama_akun = '@metrotvnews'\n",
    "target_tweet = 100 \n",
    "tweet_terambil = 0 \n",
    "text_warning = 'ROKOK'\n",
    "\n",
    "while tweet_terambil != target_tweet: \n",
    "    tweet_terambil += 1 \n",
    "    tweet = 'ambil tweet ke-{}'.format(tweet_terambil)\n",
    "    if tweet_terambil == 5: \n",
    "        tweet = tweet + 'ROKOK'\n",
    "    print(tweet)\n",
    "    if text_warning in tweet: \n",
    "        print('Warning')\n",
    "        print()\n",
    "        break\n",
    "        \n",
    "    print('Tweet aman.')\n",
    "    print()"
   ]
  },
  {
   "cell_type": "code",
   "execution_count": 72,
   "id": "9c2ab837",
   "metadata": {},
   "outputs": [
    {
     "name": "stdout",
     "output_type": "stream",
     "text": [
      "4\n",
      "3\n",
      "2\n",
      "1\n",
      "0\n",
      "Loop done\n"
     ]
    }
   ],
   "source": [
    "n = 5 \n",
    "while n > 0: \n",
    "    n -= 1 \n",
    "    print(n) \n",
    "else: \n",
    "    print('Loop done')"
   ]
  },
  {
   "cell_type": "code",
   "execution_count": 73,
   "id": "3bc4dc3c",
   "metadata": {},
   "outputs": [
    {
     "name": "stdout",
     "output_type": "stream",
     "text": [
      "4\n",
      "3\n",
      "2\n",
      "1\n",
      "0\n",
      "Loop done\n"
     ]
    }
   ],
   "source": [
    "n = 5 \n",
    "while n > 0: \n",
    "    n -= 1 \n",
    "    print(n) \n",
    "    \n",
    "print('Loop done')"
   ]
  },
  {
   "cell_type": "code",
   "execution_count": 74,
   "id": "88a0c66d",
   "metadata": {},
   "outputs": [
    {
     "name": "stdout",
     "output_type": "stream",
     "text": [
      "4\n",
      "3\n",
      "2\n",
      "1\n",
      "0\n",
      "Loop done\n",
      "Start another process\n"
     ]
    }
   ],
   "source": [
    "n = 5 \n",
    "while n > 0: \n",
    "    n -= 1 \n",
    "    print(n) \n",
    "    if n == 2: \n",
    "        continue\n",
    "else:    \n",
    "    print('Loop done') \n",
    "    \n",
    "print('Start another process')"
   ]
  },
  {
   "cell_type": "code",
   "execution_count": 75,
   "id": "125d2a14",
   "metadata": {},
   "outputs": [
    {
     "name": "stdout",
     "output_type": "stream",
     "text": [
      "foo\n",
      "> baz\n",
      "> qux\n",
      "bar\n",
      "> baz\n",
      "> qux\n"
     ]
    }
   ],
   "source": [
    "a = ['foo', 'bar'] \n",
    "while len(a): \n",
    "    print(a.pop(0))\n",
    "    \n",
    "    b = ['baz', 'qux'] \n",
    "    \n",
    "    while len(b): \n",
    "        print('>', b.pop(0))"
   ]
  },
  {
   "cell_type": "code",
   "execution_count": 76,
   "id": "6549ed86",
   "metadata": {},
   "outputs": [],
   "source": [
    "## For"
   ]
  },
  {
   "cell_type": "code",
   "execution_count": null,
   "id": "254e02e8",
   "metadata": {},
   "outputs": [],
   "source": [
    "for x in y "
   ]
  },
  {
   "cell_type": "code",
   "execution_count": null,
   "id": "d4a64a47",
   "metadata": {},
   "outputs": [],
   "source": []
  },
  {
   "cell_type": "code",
   "execution_count": 77,
   "id": "13e4148c",
   "metadata": {},
   "outputs": [
    {
     "name": "stdout",
     "output_type": "stream",
     "text": [
      "a\n",
      "b\n",
      "c\n",
      "d\n",
      "e\n"
     ]
    }
   ],
   "source": [
    "a = 'abcde'\n",
    "for i in a:\n",
    "    print(i)"
   ]
  },
  {
   "cell_type": "code",
   "execution_count": 78,
   "id": "e2886555",
   "metadata": {},
   "outputs": [
    {
     "name": "stdout",
     "output_type": "stream",
     "text": [
      "foo\n",
      "bar\n",
      "baz\n"
     ]
    }
   ],
   "source": [
    "a = {'foo': 1, 'bar': 2, 'baz': 3}\n",
    "for i in a: \n",
    "    print(i)"
   ]
  },
  {
   "cell_type": "code",
   "execution_count": 79,
   "id": "98d4bde0",
   "metadata": {},
   "outputs": [
    {
     "name": "stdout",
     "output_type": "stream",
     "text": [
      "foo 1\n",
      "bar 2\n",
      "baz 3\n"
     ]
    }
   ],
   "source": [
    "a = {'foo': 1, 'bar': 2, 'baz': 3}\n",
    "for i in a: \n",
    "    print(i, a[i])"
   ]
  },
  {
   "cell_type": "code",
   "execution_count": 80,
   "id": "99d50878",
   "metadata": {},
   "outputs": [
    {
     "name": "stdout",
     "output_type": "stream",
     "text": [
      "1\n",
      "2\n",
      "3\n"
     ]
    }
   ],
   "source": [
    "for i in a.values(): \n",
    "    print(i)"
   ]
  },
  {
   "cell_type": "code",
   "execution_count": 81,
   "id": "b092128b",
   "metadata": {},
   "outputs": [
    {
     "name": "stdout",
     "output_type": "stream",
     "text": [
      "foo\n",
      "bar\n",
      "baz\n"
     ]
    }
   ],
   "source": [
    "for i in a.keys(): \n",
    "    print(i)"
   ]
  },
  {
   "cell_type": "code",
   "execution_count": 82,
   "id": "7ae4ad02",
   "metadata": {},
   "outputs": [
    {
     "data": {
      "text/plain": [
       "{'foo': 1, 'bar': 2, 'baz': 3}"
      ]
     },
     "execution_count": 82,
     "metadata": {},
     "output_type": "execute_result"
    }
   ],
   "source": [
    "a"
   ]
  },
  {
   "cell_type": "code",
   "execution_count": 84,
   "id": "b7f73ef8",
   "metadata": {},
   "outputs": [
    {
     "name": "stdout",
     "output_type": "stream",
     "text": [
      "foo 1\n",
      "bar 2\n",
      "baz 3\n"
     ]
    }
   ],
   "source": [
    "for k, v in a.items(): \n",
    "    print(k, v)"
   ]
  },
  {
   "cell_type": "code",
   "execution_count": 87,
   "id": "a53cb898",
   "metadata": {},
   "outputs": [
    {
     "name": "stdout",
     "output_type": "stream",
     "text": [
      "a A 1\n",
      "b B 2\n",
      "c C 3\n"
     ]
    }
   ],
   "source": [
    "a = ['a', 'b', 'c'] \n",
    "b = ['A', 'B', 'C'] \n",
    "c = [1, 2, 3] \n",
    "\n",
    "for i, j, k in zip(a, b, c):\n",
    "    print(i, j, k)"
   ]
  },
  {
   "cell_type": "code",
   "execution_count": 90,
   "id": "dc2ebecf",
   "metadata": {},
   "outputs": [
    {
     "name": "stdout",
     "output_type": "stream",
     "text": [
      "range(0, 11)\n"
     ]
    },
    {
     "data": {
      "text/plain": [
       "range"
      ]
     },
     "execution_count": 90,
     "metadata": {},
     "output_type": "execute_result"
    }
   ],
   "source": [
    "x = range(11)\n",
    "print(x)\n",
    "type(x)"
   ]
  },
  {
   "cell_type": "code",
   "execution_count": 94,
   "id": "45b17654",
   "metadata": {},
   "outputs": [],
   "source": [
    "for i in range(11): \n",
    "    if i == 5: \n",
    "        continue \n",
    "        print(i)"
   ]
  },
  {
   "cell_type": "code",
   "execution_count": 95,
   "id": "c593186c",
   "metadata": {},
   "outputs": [
    {
     "name": "stdout",
     "output_type": "stream",
     "text": [
      "Masukkan nama: Awan\n",
      "A\n",
      "w\n",
      "a\n",
      "n\n"
     ]
    }
   ],
   "source": [
    "a = input('Masukkan nama: ')\n",
    "for i in a:  \n",
    "    print(i)"
   ]
  },
  {
   "cell_type": "code",
   "execution_count": 100,
   "id": "cf66d668",
   "metadata": {},
   "outputs": [
    {
     "name": "stdout",
     "output_type": "stream",
     "text": [
      "Stop?a\n",
      "Stop?b\n",
      "Stop?S\n"
     ]
    }
   ],
   "source": [
    "while True: \n",
    "    msg = input('Stop?')\n",
    "    if msg == 'S':\n",
    "        break "
   ]
  },
  {
   "cell_type": "code",
   "execution_count": null,
   "id": "80cba275",
   "metadata": {},
   "outputs": [],
   "source": []
  }
 ],
 "metadata": {
  "kernelspec": {
   "display_name": "Python 3",
   "language": "python",
   "name": "python3"
  },
  "language_info": {
   "codemirror_mode": {
    "name": "ipython",
    "version": 3
   },
   "file_extension": ".py",
   "mimetype": "text/x-python",
   "name": "python",
   "nbconvert_exporter": "python",
   "pygments_lexer": "ipython3",
   "version": "3.8.8"
  }
 },
 "nbformat": 4,
 "nbformat_minor": 5
}
