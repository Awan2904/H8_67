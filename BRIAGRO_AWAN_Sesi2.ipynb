{
 "cells": [
  {
   "cell_type": "code",
   "execution_count": 13,
   "id": "f69948ea",
   "metadata": {},
   "outputs": [
    {
     "ename": "SyntaxError",
     "evalue": "invalid syntax (<ipython-input-13-ef3f5fffc380>, line 1)",
     "output_type": "error",
     "traceback": [
      "\u001b[1;36m  File \u001b[1;32m\"<ipython-input-13-ef3f5fffc380>\"\u001b[1;36m, line \u001b[1;32m1\u001b[0m\n\u001b[1;33m    == # equal\u001b[0m\n\u001b[1;37m    ^\u001b[0m\n\u001b[1;31mSyntaxError\u001b[0m\u001b[1;31m:\u001b[0m invalid syntax\n"
     ]
    }
   ],
   "source": [
    "== # equal \n",
    "!= # not equal\n",
    "< \n",
    "> \n",
    "<= \n",
    ">= "
   ]
  },
  {
   "cell_type": "code",
   "execution_count": 24,
   "id": "b86cb017",
   "metadata": {},
   "outputs": [],
   "source": [
    "##If statement itu hasilnya Boolean "
   ]
  },
  {
   "cell_type": "code",
   "execution_count": 21,
   "id": "f8751ec5",
   "metadata": {},
   "outputs": [
    {
     "name": "stdout",
     "output_type": "stream",
     "text": [
      "jangan pergi keluar\n",
      "tetap di rumah\n"
     ]
    }
   ],
   "source": [
    "cuaca = 'hujan' \n",
    "if cuaca != 'cerah':\n",
    "    print('jangan pergi keluar')\n",
    "    print('tetap di rumah') "
   ]
  },
  {
   "cell_type": "code",
   "execution_count": 18,
   "id": "8f0e1118",
   "metadata": {},
   "outputs": [
    {
     "name": "stdout",
     "output_type": "stream",
     "text": [
      "benar\n"
     ]
    }
   ],
   "source": [
    "x = 1 \n",
    "\n",
    "if x >= 1:\n",
    "    print('benar')"
   ]
  },
  {
   "cell_type": "code",
   "execution_count": 27,
   "id": "008b7672",
   "metadata": {},
   "outputs": [
    {
     "name": "stdout",
     "output_type": "stream",
     "text": [
      "benar\n",
      "betul\n",
      "tepat\n",
      "OK\n",
      "benar sekali\n",
      "ngokhey\n"
     ]
    }
   ],
   "source": [
    "x = 1 \n",
    "y = 10 \n",
    "if x >= 1: #expression 1 \n",
    "    print('benar') #statement 1 \n",
    "    print('betul') #statement 2 \n",
    "    print('tepat') #statement 3 \n",
    "    \n",
    "    if y == 10: #expression 2 \n",
    "        print('OK') #statement 1 \n",
    "        \n",
    "        if x == 1: #expression 3 \n",
    "            print('benar sekali')\n",
    "\n",
    "print('ngokhey')"
   ]
  },
  {
   "cell_type": "code",
   "execution_count": null,
   "id": "d81376ca",
   "metadata": {},
   "outputs": [],
   "source": [
    "if 'foo' in ['foo', 'bar', 'baz']: # E1 terpenuhi \n",
    "    print('Outer condition is true') # statement 1 jalan \n",
    "    \n",
    "    if 10 > 20: #E2 tidak terpenuhi \n",
    "        print('Inner condition 2') #statemen 2 tidak jalan \n",
    "        \n",
    "    if 10 < 20: #E3 terpenuhi \n",
    "        print('Inner condition 3') #statement 3 jalan \n",
    "        \n",
    "    "
   ]
  },
  {
   "cell_type": "code",
   "execution_count": 28,
   "id": "0a452cbf",
   "metadata": {},
   "outputs": [
    {
     "name": "stdout",
     "output_type": "stream",
     "text": [
      "NOT\n"
     ]
    }
   ],
   "source": [
    "x = 10 \n",
    "\n",
    "if x < 10: \n",
    "    print('OK') \n",
    "else: \n",
    "    print('NOT')"
   ]
  },
  {
   "cell_type": "code",
   "execution_count": 31,
   "id": "fa90aab4",
   "metadata": {},
   "outputs": [
    {
     "name": "stdout",
     "output_type": "stream",
     "text": [
      "this1\n"
     ]
    }
   ],
   "source": [
    "y = 100 \n",
    "\n",
    "if y == 90: \n",
    "    print('OK') \n",
    "    \n",
    "elif y == 80: \n",
    "    print('this')\n",
    "    \n",
    "elif y == 100: \n",
    "    print('this1')\n",
    "\n",
    "elif y == 20: \n",
    "    print('this2')\n",
    "    \n",
    "else: \n",
    "    print('NOT')"
   ]
  },
  {
   "cell_type": "code",
   "execution_count": null,
   "id": "86aa71d3",
   "metadata": {},
   "outputs": [],
   "source": []
  },
  {
   "cell_type": "code",
   "execution_count": 33,
   "id": "e1b2467d",
   "metadata": {},
   "outputs": [
    {
     "name": "stdout",
     "output_type": "stream",
     "text": [
      "beli_pulpen\n"
     ]
    }
   ],
   "source": [
    "harga_buku = 20000 \n",
    "harga_majalah = 5000 \n",
    "uang = 2000 \n",
    "harga_pulpen = 1000 \n",
    "\n",
    "if uang > harga_buku: \n",
    "    print('beli_buku') \n",
    "    \n",
    "elif uang > harga_pulpen: \n",
    "    print('beli_pulpen')\n",
    "    \n",
    "else: \n",
    "    print('gak cukup uangnya')"
   ]
  },
  {
   "cell_type": "code",
   "execution_count": 34,
   "id": "03a8a8f2",
   "metadata": {},
   "outputs": [
    {
     "name": "stdout",
     "output_type": "stream",
     "text": [
      "Hai Hack\n"
     ]
    }
   ],
   "source": [
    "name = 'Hacktiv8'\n",
    "\n",
    "if name == 'Fred': \n",
    "    print('Hai Fred')   \n",
    "elif name == 'Xander': \n",
    "    print('Hai Xander')\n",
    "elif name == ('Hacktiv8'):\n",
    "    print('Hai Hack') \n",
    "else: \n",
    "    print('Who are you?')"
   ]
  },
  {
   "cell_type": "code",
   "execution_count": 36,
   "id": "0ff592fb",
   "metadata": {},
   "outputs": [
    {
     "name": "stdout",
     "output_type": "stream",
     "text": [
      "Hai Hack\n",
      "how are you?\n",
      "are you hungry?\n"
     ]
    }
   ],
   "source": [
    "if name == 'Hacktiv8': print('Hai Hack'); print('how are you?'); print('are you hungry?')"
   ]
  },
  {
   "cell_type": "code",
   "execution_count": 47,
   "id": "b76af88d",
   "metadata": {},
   "outputs": [
    {
     "name": "stdout",
     "output_type": "stream",
     "text": [
      "Salah\n"
     ]
    }
   ],
   "source": [
    "a = 1 \n",
    "b = 2 \n",
    "c = 3 \n",
    "y = 50 \n",
    "\n",
    "x = 'Benar' if y == 10 else 'Salah'\n",
    "print(x)"
   ]
  },
  {
   "cell_type": "code",
   "execution_count": 43,
   "id": "b1d3238a",
   "metadata": {},
   "outputs": [
    {
     "name": "stdout",
     "output_type": "stream",
     "text": [
      "ngkohey\n",
      "iyeeee\n"
     ]
    }
   ],
   "source": [
    "x = 2 \n",
    "\n",
    "if x == 1: \n",
    "    print('foo')\n",
    "    print('bar')\n",
    "    print('baz')\n",
    "    \n",
    "elif x == 2: \n",
    "    print('ngkohey')\n",
    "    print('iyeeee') \n",
    "    \n",
    "else: \n",
    "    print('hoho') \n",
    "    print('hihi')"
   ]
  },
  {
   "cell_type": "code",
   "execution_count": 49,
   "id": "3eeacf43",
   "metadata": {},
   "outputs": [
    {
     "name": "stdout",
     "output_type": "stream",
     "text": [
      "False\n",
      "True ['B'] ['C']\n",
      "True {'B'} {'C'}\n"
     ]
    }
   ],
   "source": [
    "print('A' not in 'ABC') \n",
    "print('A' in ['A'],['B'],['C'])\n",
    "print('A' in {'A'},{'B'},{'C'})"
   ]
  },
  {
   "cell_type": "code",
   "execution_count": 51,
   "id": "d32cd5d8",
   "metadata": {},
   "outputs": [
    {
     "name": "stdout",
     "output_type": "stream",
     "text": [
      "Ayo ke pantai\n",
      "-----------------------------\n",
      "kuy lah pantai\n"
     ]
    }
   ],
   "source": [
    "hujan = False \n",
    "print('Ayo ke', 'pantai' if not hujan else 'di rumah aje')\n",
    "\n",
    "print('-'*29)\n",
    "if not hujan: \n",
    "    print('kuy lah pantai') \n",
    "else: \n",
    "    print('di rumah aje')"
   ]
  },
  {
   "cell_type": "code",
   "execution_count": 54,
   "id": "2f16c76d",
   "metadata": {},
   "outputs": [
    {
     "name": "stdout",
     "output_type": "stream",
     "text": [
      "Ayo di rumah aje\n",
      "-----------------------------\n",
      "Kuy di rumah aje\n"
     ]
    }
   ],
   "source": [
    "hujan = True \n",
    "print('Ayo', 'pantai' if not hujan else 'di rumah aje')\n",
    "\n",
    "print('-'*29)\n",
    "\n",
    "abcd = 'Kuy'\n",
    "if not hujan: \n",
    "    print(abcd, 'lah ke pantai') \n",
    "else: \n",
    "    print(abcd, 'di rumah aje')"
   ]
  },
  {
   "cell_type": "code",
   "execution_count": null,
   "id": "f8bd9084",
   "metadata": {},
   "outputs": [],
   "source": [
    "# cerah, berawab, hujan, mendung, terik \n",
    "\"\"\"\n",
    "cerah -> main bola \n",
    "berawan -> brenang \n",
    "hujan -> di rumah aje\n",
    "mendung -> jalan-jalan\n",
    "terik -> tidur\n",
    "\"\"\"\n",
    "cuaca = 'hujan' \n",
    "aktivitas = 'Main Bola' if cuaca == 'cerah' else 'berenang'\n",
    "print(aktivitas)"
   ]
  },
  {
   "cell_type": "code",
   "execution_count": null,
   "id": "e963b296",
   "metadata": {},
   "outputs": [],
   "source": [
    "'yes' if ('qux' in ['foo', 'bar', 'baz']) else 'no'"
   ]
  },
  {
   "cell_type": "code",
   "execution_count": null,
   "id": "427c80ff",
   "metadata": {},
   "outputs": [],
   "source": [
    "## Pass Statement "
   ]
  },
  {
   "cell_type": "code",
   "execution_count": null,
   "id": "52246d1b",
   "metadata": {},
   "outputs": [],
   "source": [
    "## Looping/Iterasi"
   ]
  },
  {
   "cell_type": "code",
   "execution_count": null,
   "id": "13d4b0b7",
   "metadata": {},
   "outputs": [],
   "source": [
    "if True: \n",
    "    pass \n",
    "print('foo')"
   ]
  },
  {
   "cell_type": "code",
   "execution_count": null,
   "id": "7c5a601c",
   "metadata": {},
   "outputs": [],
   "source": [
    "while True: \n",
    "    print('A')"
   ]
  },
  {
   "cell_type": "code",
   "execution_count": null,
   "id": "067193c2",
   "metadata": {},
   "outputs": [],
   "source": [
    "n = 0 \n",
    "print('n =', n) \n",
    "print('-'*20)\n",
    "while True: \n",
    "    print ('A{}'.format(n))\n",
    "    n += 1 \n",
    "    if n == 10: \n",
    "        break \n",
    "print('-'*20)\n",
    "print('n -', n)"
   ]
  },
  {
   "cell_type": "code",
   "execution_count": null,
   "id": "8b35d4ac",
   "metadata": {},
   "outputs": [],
   "source": [
    "n = 5 \n",
    "while n > 0: \n",
    "    n -= 1 \n",
    "    print(n)"
   ]
  },
  {
   "cell_type": "code",
   "execution_count": null,
   "id": "97f5c414",
   "metadata": {},
   "outputs": [],
   "source": []
  }
 ],
 "metadata": {
  "kernelspec": {
   "display_name": "Python 3",
   "language": "python",
   "name": "python3"
  },
  "language_info": {
   "codemirror_mode": {
    "name": "ipython",
    "version": 3
   },
   "file_extension": ".py",
   "mimetype": "text/x-python",
   "name": "python",
   "nbconvert_exporter": "python",
   "pygments_lexer": "ipython3",
   "version": "3.8.8"
  }
 },
 "nbformat": 4,
 "nbformat_minor": 5
}
