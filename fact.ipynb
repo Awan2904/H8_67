{
 "cells": [
  {
   "cell_type": "code",
   "execution_count": 8,
   "id": "b377b4d3",
   "metadata": {},
   "outputs": [],
   "source": [
    "def fact(n): \n",
    "    return 1 if n == 1 else n * fact(n-1)\n",
    "\n",
    "    if (__name__ == '__main__'): \n",
    "        import sys \n",
    "    if len(sys.argv) > 1: \n",
    "        print(fact(int(sys.argv[1])))"
   ]
  },
  {
   "cell_type": "code",
   "execution_count": 9,
   "id": "bc44d090",
   "metadata": {},
   "outputs": [],
   "source": [
    "import sys"
   ]
  },
  {
   "cell_type": "code",
   "execution_count": null,
   "id": "51a77a0a",
   "metadata": {},
   "outputs": [],
   "source": []
  },
  {
   "cell_type": "code",
   "execution_count": null,
   "id": "56a0a780",
   "metadata": {},
   "outputs": [],
   "source": []
  }
 ],
 "metadata": {
  "kernelspec": {
   "display_name": "Python 3",
   "language": "python",
   "name": "python3"
  },
  "language_info": {
   "codemirror_mode": {
    "name": "ipython",
    "version": 3
   },
   "file_extension": ".py",
   "mimetype": "text/x-python",
   "name": "python",
   "nbconvert_exporter": "python",
   "pygments_lexer": "ipython3",
   "version": "3.8.8"
  }
 },
 "nbformat": 4,
 "nbformat_minor": 5
}
