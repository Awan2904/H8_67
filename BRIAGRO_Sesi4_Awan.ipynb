{
 "cells": [
  {
   "cell_type": "markdown",
   "id": "042394d0",
   "metadata": {},
   "source": [
    "## Installing Numpy"
   ]
  },
  {
   "cell_type": "code",
   "execution_count": 18,
   "id": "51002067",
   "metadata": {},
   "outputs": [
    {
     "name": "stdout",
     "output_type": "stream",
     "text": [
      "Requirement already satisfied: numpy in c:\\programdata\\anaconda3\\lib\\site-packages (1.20.1)\n",
      "Note: you may need to restart the kernel to use updated packages.\n"
     ]
    }
   ],
   "source": [
    "pip install numpy"
   ]
  },
  {
   "cell_type": "markdown",
   "id": "11f9afd3",
   "metadata": {},
   "source": [
    "## Import Numpy"
   ]
  },
  {
   "cell_type": "code",
   "execution_count": null,
   "id": "0bcc0e64",
   "metadata": {},
   "outputs": [],
   "source": [
    "import numpy as np"
   ]
  },
  {
   "cell_type": "markdown",
   "id": "b193b144",
   "metadata": {},
   "source": [
    "## Array"
   ]
  },
  {
   "cell_type": "code",
   "execution_count": 2,
   "id": "c7e46dc4",
   "metadata": {},
   "outputs": [],
   "source": [
    "a = np.array([[1, 2, 3, 4], [5, 6, 7, 8], [9, 10, 11, 12]])"
   ]
  },
  {
   "cell_type": "code",
   "execution_count": 3,
   "id": "4ecb835c",
   "metadata": {},
   "outputs": [
    {
     "name": "stdout",
     "output_type": "stream",
     "text": [
      "[1 2 3 4]\n"
     ]
    }
   ],
   "source": [
    "print(a[0])"
   ]
  },
  {
   "cell_type": "code",
   "execution_count": 4,
   "id": "d40d3972",
   "metadata": {},
   "outputs": [
    {
     "data": {
      "text/plain": [
       "[[0.0, 0.0, 0.0], [1.0, 1.0, 1.0]]"
      ]
     },
     "execution_count": 4,
     "metadata": {},
     "output_type": "execute_result"
    }
   ],
   "source": [
    "[[0., 0., 0.], \n",
    "[1., 1., 1.]]"
   ]
  },
  {
   "cell_type": "markdown",
   "id": "659ee9be",
   "metadata": {},
   "source": [
    "## Creating Array"
   ]
  },
  {
   "cell_type": "code",
   "execution_count": null,
   "id": "a18764d3",
   "metadata": {},
   "outputs": [],
   "source": [
    "np.array()\n",
    "np.zeros() \n",
    "np.ones() \n",
    "np.empty() \n",
    "np.arange()"
   ]
  },
  {
   "cell_type": "code",
   "execution_count": 5,
   "id": "852ec8e7",
   "metadata": {},
   "outputs": [],
   "source": [
    "import numpy as np\n",
    "a = np.array([1, 2, 3])"
   ]
  },
  {
   "cell_type": "code",
   "execution_count": 6,
   "id": "33ba283d",
   "metadata": {},
   "outputs": [
    {
     "data": {
      "text/plain": [
       "array([1, 2, 3])"
      ]
     },
     "execution_count": 6,
     "metadata": {},
     "output_type": "execute_result"
    }
   ],
   "source": [
    "a"
   ]
  },
  {
   "cell_type": "code",
   "execution_count": 7,
   "id": "573d2322",
   "metadata": {},
   "outputs": [
    {
     "data": {
      "text/plain": [
       "array([0., 0., 0., 0., 0., 0.])"
      ]
     },
     "execution_count": 7,
     "metadata": {},
     "output_type": "execute_result"
    }
   ],
   "source": [
    "np.zeros(6)"
   ]
  },
  {
   "cell_type": "code",
   "execution_count": 8,
   "id": "454e3260",
   "metadata": {},
   "outputs": [
    {
     "data": {
      "text/plain": [
       "array([1., 1., 1., 1., 1., 1.])"
      ]
     },
     "execution_count": 8,
     "metadata": {},
     "output_type": "execute_result"
    }
   ],
   "source": [
    "np.ones(6)"
   ]
  },
  {
   "cell_type": "code",
   "execution_count": 9,
   "id": "802c7297",
   "metadata": {},
   "outputs": [
    {
     "data": {
      "text/plain": [
       "array([1., 1., 1., 1., 1., 1.])"
      ]
     },
     "execution_count": 9,
     "metadata": {},
     "output_type": "execute_result"
    }
   ],
   "source": [
    "np.empty(6)"
   ]
  },
  {
   "cell_type": "code",
   "execution_count": 11,
   "id": "d21af3d8",
   "metadata": {},
   "outputs": [
    {
     "name": "stdout",
     "output_type": "stream",
     "text": [
      "[0 1 2 3]\n",
      "[0 2 4 6 8]\n"
     ]
    }
   ],
   "source": [
    "print(np.arange(4))\n",
    "print(np.arange(0,10,2)) #(start, stop, step)"
   ]
  },
  {
   "cell_type": "code",
   "execution_count": 12,
   "id": "d6bb05e4",
   "metadata": {},
   "outputs": [
    {
     "data": {
      "text/plain": [
       "array([ 2,  7, 12, 17, 22, 27])"
      ]
     },
     "execution_count": 12,
     "metadata": {},
     "output_type": "execute_result"
    }
   ],
   "source": [
    "np.arange(2,29,5)"
   ]
  },
  {
   "cell_type": "markdown",
   "id": "e2bd9685",
   "metadata": {},
   "source": [
    "## Add, Remove, and Sort"
   ]
  },
  {
   "cell_type": "code",
   "execution_count": null,
   "id": "3b282360",
   "metadata": {},
   "outputs": [],
   "source": [
    "np.append()\n",
    "np.delete() \n",
    "np.sort()"
   ]
  },
  {
   "cell_type": "code",
   "execution_count": 13,
   "id": "87e4538a",
   "metadata": {},
   "outputs": [],
   "source": [
    "arr = np.array([1, 2, 3, 4, 5, 6, 7, 8])"
   ]
  },
  {
   "cell_type": "code",
   "execution_count": 14,
   "id": "88966d36",
   "metadata": {},
   "outputs": [
    {
     "data": {
      "text/plain": [
       "array([1, 2, 3, 4, 5, 6, 7, 8, 1, 2])"
      ]
     },
     "execution_count": 14,
     "metadata": {},
     "output_type": "execute_result"
    }
   ],
   "source": [
    "np.append(arr, [1,2])"
   ]
  },
  {
   "cell_type": "code",
   "execution_count": 16,
   "id": "04bc28b4",
   "metadata": {},
   "outputs": [
    {
     "data": {
      "text/plain": [
       "array([1, 3, 4, 5, 6, 7, 8])"
      ]
     },
     "execution_count": 16,
     "metadata": {},
     "output_type": "execute_result"
    }
   ],
   "source": [
    "np.delete(arr, 1)"
   ]
  },
  {
   "cell_type": "code",
   "execution_count": 17,
   "id": "4cc3f8f8",
   "metadata": {},
   "outputs": [
    {
     "data": {
      "text/plain": [
       "array([1, 2, 3, 4, 5, 6, 7, 8])"
      ]
     },
     "execution_count": 17,
     "metadata": {},
     "output_type": "execute_result"
    }
   ],
   "source": [
    "arr = np.array([2, 1, 5, 3, 7, 4, 6, 8])\n",
    "np.sort(arr)"
   ]
  },
  {
   "cell_type": "markdown",
   "id": "dd3129e0",
   "metadata": {},
   "source": [
    "## Shape and Size"
   ]
  },
  {
   "cell_type": "code",
   "execution_count": null,
   "id": "396639b3",
   "metadata": {},
   "outputs": [],
   "source": [
    "ndarray.ndim()\n",
    "ndarray.size()\n",
    "ndarray.shape()"
   ]
  },
  {
   "cell_type": "code",
   "execution_count": 19,
   "id": "35a42912",
   "metadata": {},
   "outputs": [
    {
     "name": "stdout",
     "output_type": "stream",
     "text": [
      "[[[0 1 2 3]\n",
      "  [4 5 6 7]]\n",
      "\n",
      " [[0 1 2 3]\n",
      "  [4 5 6 7]]\n",
      "\n",
      " [[0 1 2 3]\n",
      "  [4 5 6 7]]]\n"
     ]
    }
   ],
   "source": [
    "array_example = np.array([[[0, 1, 2, 3],\n",
    "                          [4, 5, 6, 7]],\n",
    "                         \n",
    "                         [[0, 1, 2, 3],\n",
    "                         [4, 5, 6, 7]], \n",
    "                         \n",
    "                         [[0, 1, 2, 3], \n",
    "                         [4, 5, 6, 7]]])\n",
    "print(array_example)"
   ]
  },
  {
   "cell_type": "code",
   "execution_count": 20,
   "id": "43c7516d",
   "metadata": {},
   "outputs": [
    {
     "data": {
      "text/plain": [
       "3"
      ]
     },
     "execution_count": 20,
     "metadata": {},
     "output_type": "execute_result"
    }
   ],
   "source": [
    "array_example.ndim"
   ]
  },
  {
   "cell_type": "code",
   "execution_count": 21,
   "id": "8b22a6b7",
   "metadata": {},
   "outputs": [
    {
     "data": {
      "text/plain": [
       "(3, 2, 4)"
      ]
     },
     "execution_count": 21,
     "metadata": {},
     "output_type": "execute_result"
    }
   ],
   "source": [
    "array_example.shape"
   ]
  },
  {
   "cell_type": "code",
   "execution_count": 22,
   "id": "2906ff52",
   "metadata": {},
   "outputs": [],
   "source": [
    "arr_one = np.array([[1, 2, 3, 4, 5]])"
   ]
  },
  {
   "cell_type": "code",
   "execution_count": 23,
   "id": "94429ed5",
   "metadata": {},
   "outputs": [
    {
     "data": {
      "text/plain": [
       "2"
      ]
     },
     "execution_count": 23,
     "metadata": {},
     "output_type": "execute_result"
    }
   ],
   "source": [
    "arr_one.ndim"
   ]
  },
  {
   "cell_type": "code",
   "execution_count": 24,
   "id": "ed36443c",
   "metadata": {},
   "outputs": [
    {
     "data": {
      "text/plain": [
       "5"
      ]
     },
     "execution_count": 24,
     "metadata": {},
     "output_type": "execute_result"
    }
   ],
   "source": [
    "arr_one.size"
   ]
  },
  {
   "cell_type": "code",
   "execution_count": 25,
   "id": "ab2a15bd",
   "metadata": {},
   "outputs": [
    {
     "data": {
      "text/plain": [
       "(1, 5)"
      ]
     },
     "execution_count": 25,
     "metadata": {},
     "output_type": "execute_result"
    }
   ],
   "source": [
    "arr_one.shape"
   ]
  },
  {
   "cell_type": "markdown",
   "id": "be92a399",
   "metadata": {},
   "source": [
    "## Reshape"
   ]
  },
  {
   "cell_type": "code",
   "execution_count": null,
   "id": "9e4c14c3",
   "metadata": {},
   "outputs": [],
   "source": [
    "np.reshape()"
   ]
  },
  {
   "cell_type": "code",
   "execution_count": 27,
   "id": "e6482532",
   "metadata": {},
   "outputs": [
    {
     "name": "stdout",
     "output_type": "stream",
     "text": [
      "[0 1 2 3 4 5]\n"
     ]
    }
   ],
   "source": [
    "a = np.arange(6) \n",
    "\n",
    "print(a)"
   ]
  },
  {
   "cell_type": "code",
   "execution_count": 28,
   "id": "7fdbf58c",
   "metadata": {},
   "outputs": [
    {
     "name": "stdout",
     "output_type": "stream",
     "text": [
      "[[0 1]\n",
      " [2 3]\n",
      " [4 5]]\n"
     ]
    }
   ],
   "source": [
    "b = a.reshape(3,2)\n",
    "\n",
    "print(b)"
   ]
  },
  {
   "cell_type": "code",
   "execution_count": 29,
   "id": "73956772",
   "metadata": {},
   "outputs": [
    {
     "data": {
      "text/plain": [
       "array([[0],\n",
       "       [1],\n",
       "       [2],\n",
       "       [3],\n",
       "       [4],\n",
       "       [5]])"
      ]
     },
     "execution_count": 29,
     "metadata": {},
     "output_type": "execute_result"
    }
   ],
   "source": [
    "a.reshape(6,1)"
   ]
  },
  {
   "cell_type": "markdown",
   "id": "94ac14ac",
   "metadata": {},
   "source": [
    "## Convert 1D to 2D"
   ]
  },
  {
   "cell_type": "code",
   "execution_count": null,
   "id": "66349a9a",
   "metadata": {},
   "outputs": [],
   "source": [
    "np.newaxis\n",
    "np.expand_dims"
   ]
  },
  {
   "cell_type": "code",
   "execution_count": 30,
   "id": "be4ca0a2",
   "metadata": {},
   "outputs": [
    {
     "data": {
      "text/plain": [
       "(6,)"
      ]
     },
     "execution_count": 30,
     "metadata": {},
     "output_type": "execute_result"
    }
   ],
   "source": [
    "a = np.array([1, 2, 3, 4, 5, 6])\n",
    "a.shape"
   ]
  },
  {
   "cell_type": "code",
   "execution_count": 31,
   "id": "49e01be5",
   "metadata": {},
   "outputs": [
    {
     "name": "stdout",
     "output_type": "stream",
     "text": [
      "(1, 6)\n",
      "[[1 2 3 4 5 6]]\n"
     ]
    }
   ],
   "source": [
    "a2 = a[np.newaxis]\n",
    "print(a2.shape)\n",
    "print(a2)"
   ]
  },
  {
   "cell_type": "code",
   "execution_count": 32,
   "id": "b8ee617a",
   "metadata": {},
   "outputs": [
    {
     "name": "stdout",
     "output_type": "stream",
     "text": [
      "(1, 6)\n",
      "[[1 2 3 4 5 6]]\n"
     ]
    }
   ],
   "source": [
    "row_vector = a[np.newaxis, :]\n",
    "print(row_vector.shape)\n",
    "print(row_vector)"
   ]
  },
  {
   "cell_type": "code",
   "execution_count": 33,
   "id": "37b9f801",
   "metadata": {},
   "outputs": [
    {
     "name": "stdout",
     "output_type": "stream",
     "text": [
      "(6, 1)\n",
      "[[1]\n",
      " [2]\n",
      " [3]\n",
      " [4]\n",
      " [5]\n",
      " [6]]\n"
     ]
    }
   ],
   "source": [
    "col_vector = a[:, np.newaxis]\n",
    "print(col_vector.shape)\n",
    "print(col_vector)"
   ]
  },
  {
   "cell_type": "code",
   "execution_count": 34,
   "id": "896ca542",
   "metadata": {},
   "outputs": [
    {
     "data": {
      "text/plain": [
       "(6,)"
      ]
     },
     "execution_count": 34,
     "metadata": {},
     "output_type": "execute_result"
    }
   ],
   "source": [
    "a = np.array([1, 2, 3, 4, 5, 6])\n",
    "a.shape"
   ]
  },
  {
   "cell_type": "code",
   "execution_count": 35,
   "id": "e436da91",
   "metadata": {},
   "outputs": [
    {
     "data": {
      "text/plain": [
       "(6, 1)"
      ]
     },
     "execution_count": 35,
     "metadata": {},
     "output_type": "execute_result"
    }
   ],
   "source": [
    "b = np.expand_dims(a, axis=1)\n",
    "b.shape"
   ]
  },
  {
   "cell_type": "code",
   "execution_count": 36,
   "id": "c9c20fd2",
   "metadata": {},
   "outputs": [
    {
     "data": {
      "text/plain": [
       "(1, 6)"
      ]
     },
     "execution_count": 36,
     "metadata": {},
     "output_type": "execute_result"
    }
   ],
   "source": [
    "c = np.expand_dims(a, axis=0)\n",
    "c.shape"
   ]
  },
  {
   "cell_type": "markdown",
   "id": "8d376906",
   "metadata": {},
   "source": [
    "## Indexing and Slicing"
   ]
  },
  {
   "cell_type": "code",
   "execution_count": 37,
   "id": "4aaeb8f8",
   "metadata": {},
   "outputs": [
    {
     "name": "stdout",
     "output_type": "stream",
     "text": [
      "[1 2 3]\n",
      "1\n",
      "2\n",
      "[1 2]\n",
      "[2 3]\n",
      "[2 3]\n"
     ]
    }
   ],
   "source": [
    "data = np.array([1,2,3])\n",
    "\n",
    "print(data)\n",
    "print(data[0])\n",
    "print(data[1])\n",
    "print(data[0:2])\n",
    "print(data[1:])\n",
    "print(data[-2:])"
   ]
  },
  {
   "cell_type": "code",
   "execution_count": 38,
   "id": "e122763a",
   "metadata": {},
   "outputs": [
    {
     "data": {
      "text/plain": [
       "array([[ 1,  2,  3,  4],\n",
       "       [ 5,  6,  7,  8],\n",
       "       [ 9, 10, 11, 12]])"
      ]
     },
     "execution_count": 38,
     "metadata": {},
     "output_type": "execute_result"
    }
   ],
   "source": [
    "a = np.array([[1, 2, 3, 4], [5, 6, 7, 8], [9, 10, 11, 12]])\n",
    "a"
   ]
  },
  {
   "cell_type": "code",
   "execution_count": 39,
   "id": "727cb6ce",
   "metadata": {},
   "outputs": [
    {
     "name": "stdout",
     "output_type": "stream",
     "text": [
      "[ 5  6  7  8  9 10 11 12]\n"
     ]
    }
   ],
   "source": [
    "print(a[a>=5])"
   ]
  },
  {
   "cell_type": "code",
   "execution_count": 40,
   "id": "2f2df8ff",
   "metadata": {},
   "outputs": [
    {
     "name": "stdout",
     "output_type": "stream",
     "text": [
      "[ 5  6  7  8  9 10 11 12]\n",
      "[ 5  6  7  8  9 10 11 12]\n"
     ]
    }
   ],
   "source": [
    "five_up = (a >= 5)\n",
    "\n",
    "print(a[five_up])\n",
    "print(a[a>=5])"
   ]
  },
  {
   "cell_type": "code",
   "execution_count": 41,
   "id": "5272d8b2",
   "metadata": {},
   "outputs": [
    {
     "name": "stdout",
     "output_type": "stream",
     "text": [
      "[ 2  4  6  8 10 12]\n"
     ]
    }
   ],
   "source": [
    "divisible_by_2 = a[a%2==0]\n",
    "\n",
    "print(divisible_by_2)"
   ]
  },
  {
   "cell_type": "code",
   "execution_count": 42,
   "id": "ff8685e3",
   "metadata": {},
   "outputs": [
    {
     "name": "stdout",
     "output_type": "stream",
     "text": [
      "[ 3  4  5  6  7  8  9 10]\n"
     ]
    }
   ],
   "source": [
    "c = a[(a>2) & (a<11)]\n",
    "\n",
    "print(c)"
   ]
  },
  {
   "cell_type": "markdown",
   "id": "e0c30e51",
   "metadata": {},
   "source": [
    "## Creating Array from Existing Data\n",
    "\n",
    "Slicing indexing \n",
    "np.vstack()\n",
    "np.hstack() \n",
    "np.hsplit() \n",
    ".view() \n",
    ".copy()"
   ]
  },
  {
   "cell_type": "code",
   "execution_count": 43,
   "id": "261518e4",
   "metadata": {},
   "outputs": [
    {
     "data": {
      "text/plain": [
       "array([4, 5, 6, 7, 8])"
      ]
     },
     "execution_count": 43,
     "metadata": {},
     "output_type": "execute_result"
    }
   ],
   "source": [
    "arr =np.array([1, 2, 3, 4, 5, 6, 7, 8, 9, 10])\n",
    "\n",
    "arr1 = arr[3:8]\n",
    "arr1"
   ]
  },
  {
   "cell_type": "code",
   "execution_count": 44,
   "id": "3cff4518",
   "metadata": {},
   "outputs": [],
   "source": [
    "a_1 = np.array([[1, 1], \n",
    "               [2, 2]])"
   ]
  },
  {
   "cell_type": "code",
   "execution_count": 45,
   "id": "638f5248",
   "metadata": {},
   "outputs": [],
   "source": [
    "a_2 = np.array([[3, 3], \n",
    "               [4, 4]])"
   ]
  },
  {
   "cell_type": "code",
   "execution_count": 46,
   "id": "d1175420",
   "metadata": {},
   "outputs": [
    {
     "data": {
      "text/plain": [
       "array([[1, 1],\n",
       "       [2, 2],\n",
       "       [3, 3],\n",
       "       [4, 4]])"
      ]
     },
     "execution_count": 46,
     "metadata": {},
     "output_type": "execute_result"
    }
   ],
   "source": [
    "np.vstack((a_1, a_2))"
   ]
  },
  {
   "cell_type": "code",
   "execution_count": 47,
   "id": "5a0ea1fc",
   "metadata": {},
   "outputs": [
    {
     "data": {
      "text/plain": [
       "array([[1, 1, 3, 3],\n",
       "       [2, 2, 4, 4]])"
      ]
     },
     "execution_count": 47,
     "metadata": {},
     "output_type": "execute_result"
    }
   ],
   "source": [
    "np.hstack((a_1, a_2))"
   ]
  },
  {
   "cell_type": "code",
   "execution_count": 75,
   "id": "d7ef5735",
   "metadata": {},
   "outputs": [
    {
     "name": "stdout",
     "output_type": "stream",
     "text": [
      "[[ 1  2  3  4  5  6  7  8  9 10 11 12]\n",
      " [13 14 15 16 17 18 19 20 21 22 23 24]]\n"
     ]
    }
   ],
   "source": [
    "arrsplit = np.array([[1, 2, 3, 4, 5, 6, 7, 8, 9, 10, 11, 12], \n",
    "                    [13, 14, 15, 16, 17, 18, 19, 20, 21, 22, 23, 24]])\n",
    "print(arrsplit)"
   ]
  },
  {
   "cell_type": "code",
   "execution_count": 76,
   "id": "62c114c2",
   "metadata": {
    "scrolled": true
   },
   "outputs": [
    {
     "data": {
      "text/plain": [
       "[array([[ 1,  2,  3,  4],\n",
       "        [13, 14, 15, 16]]),\n",
       " array([[ 5,  6,  7,  8],\n",
       "        [17, 18, 19, 20]]),\n",
       " array([[ 9, 10, 11, 12],\n",
       "        [21, 22, 23, 24]])]"
      ]
     },
     "execution_count": 76,
     "metadata": {},
     "output_type": "execute_result"
    }
   ],
   "source": [
    "np.hsplit(arrsplit,3)"
   ]
  },
  {
   "cell_type": "code",
   "execution_count": 77,
   "id": "ea6123b5",
   "metadata": {},
   "outputs": [
    {
     "data": {
      "text/plain": [
       "array([[ 1,  2,  3,  4],\n",
       "       [ 5,  6,  7,  8],\n",
       "       [ 9, 10, 11, 12]])"
      ]
     },
     "execution_count": 77,
     "metadata": {},
     "output_type": "execute_result"
    }
   ],
   "source": [
    "a = np.array([[1, 2, 3, 4], [5, 6, 7, 8], [9, 10, 11, 12]])\n",
    "a"
   ]
  },
  {
   "cell_type": "code",
   "execution_count": 79,
   "id": "a77e0c3f",
   "metadata": {},
   "outputs": [
    {
     "data": {
      "text/plain": [
       "array([[ 1,  2,  3,  4],\n",
       "       [ 5,  6,  7,  8],\n",
       "       [ 9, 10, 11, 12]])"
      ]
     },
     "execution_count": 79,
     "metadata": {},
     "output_type": "execute_result"
    }
   ],
   "source": [
    "b = a.view()\n",
    "b"
   ]
  },
  {
   "cell_type": "code",
   "execution_count": 80,
   "id": "50203ae4",
   "metadata": {},
   "outputs": [
    {
     "data": {
      "text/plain": [
       "array([[ 1,  2,  3,  4],\n",
       "       [ 5,  6,  7,  8],\n",
       "       [ 9, 10, 11, 12]])"
      ]
     },
     "execution_count": 80,
     "metadata": {},
     "output_type": "execute_result"
    }
   ],
   "source": [
    "c = a.copy()\n",
    "c"
   ]
  },
  {
   "cell_type": "markdown",
   "id": "e4615adb",
   "metadata": {},
   "source": [
    "## Basic array operations"
   ]
  },
  {
   "cell_type": "code",
   "execution_count": 81,
   "id": "f5b939d2",
   "metadata": {},
   "outputs": [
    {
     "data": {
      "text/plain": [
       "10"
      ]
     },
     "execution_count": 81,
     "metadata": {},
     "output_type": "execute_result"
    }
   ],
   "source": [
    "a = np.array([1, 2, 3, 4])\n",
    "a.sum()"
   ]
  },
  {
   "cell_type": "code",
   "execution_count": 82,
   "id": "74ebd692",
   "metadata": {},
   "outputs": [
    {
     "data": {
      "text/plain": [
       "array([[1, 1],\n",
       "       [2, 2]])"
      ]
     },
     "execution_count": 82,
     "metadata": {},
     "output_type": "execute_result"
    }
   ],
   "source": [
    "b = np.array([[1, 1], [2, 2]])\n",
    "b"
   ]
  },
  {
   "cell_type": "code",
   "execution_count": 83,
   "id": "aec9479f",
   "metadata": {},
   "outputs": [
    {
     "data": {
      "text/plain": [
       "array([3, 3])"
      ]
     },
     "execution_count": 83,
     "metadata": {},
     "output_type": "execute_result"
    }
   ],
   "source": [
    "b.sum(axis=0)"
   ]
  },
  {
   "cell_type": "code",
   "execution_count": 84,
   "id": "a577fb55",
   "metadata": {},
   "outputs": [
    {
     "data": {
      "text/plain": [
       "array([2, 4])"
      ]
     },
     "execution_count": 84,
     "metadata": {},
     "output_type": "execute_result"
    }
   ],
   "source": [
    "b.sum(axis=1)"
   ]
  },
  {
   "cell_type": "code",
   "execution_count": 85,
   "id": "a98e24b1",
   "metadata": {},
   "outputs": [
    {
     "data": {
      "text/plain": [
       "array([1, 2])"
      ]
     },
     "execution_count": 85,
     "metadata": {},
     "output_type": "execute_result"
    }
   ],
   "source": [
    "data = np.array([1, 2])\n",
    "data "
   ]
  },
  {
   "cell_type": "code",
   "execution_count": 86,
   "id": "7b03cd15",
   "metadata": {},
   "outputs": [
    {
     "data": {
      "text/plain": [
       "array([1., 1.])"
      ]
     },
     "execution_count": 86,
     "metadata": {},
     "output_type": "execute_result"
    }
   ],
   "source": [
    "ones = np.ones(2)\n",
    "ones"
   ]
  },
  {
   "cell_type": "code",
   "execution_count": 87,
   "id": "85899bc4",
   "metadata": {},
   "outputs": [
    {
     "data": {
      "text/plain": [
       "array([2., 3.])"
      ]
     },
     "execution_count": 87,
     "metadata": {},
     "output_type": "execute_result"
    }
   ],
   "source": [
    "data + ones"
   ]
  },
  {
   "cell_type": "code",
   "execution_count": 88,
   "id": "32f34bb5",
   "metadata": {},
   "outputs": [
    {
     "data": {
      "text/plain": [
       "array([1, 4])"
      ]
     },
     "execution_count": 88,
     "metadata": {},
     "output_type": "execute_result"
    }
   ],
   "source": [
    "data * data"
   ]
  },
  {
   "cell_type": "code",
   "execution_count": 89,
   "id": "70633f41",
   "metadata": {},
   "outputs": [
    {
     "data": {
      "text/plain": [
       "array([1., 1.])"
      ]
     },
     "execution_count": 89,
     "metadata": {},
     "output_type": "execute_result"
    }
   ],
   "source": [
    "data / data"
   ]
  },
  {
   "cell_type": "markdown",
   "id": "4a24b5a7",
   "metadata": {},
   "source": [
    "## Broadcasting"
   ]
  },
  {
   "cell_type": "code",
   "execution_count": 90,
   "id": "efc0fa43",
   "metadata": {},
   "outputs": [
    {
     "data": {
      "text/plain": [
       "array([1.6, 3.2])"
      ]
     },
     "execution_count": 90,
     "metadata": {},
     "output_type": "execute_result"
    }
   ],
   "source": [
    "data * 1.6"
   ]
  },
  {
   "cell_type": "code",
   "execution_count": 91,
   "id": "0df9bc45",
   "metadata": {},
   "outputs": [
    {
     "data": {
      "text/plain": [
       "array([2, 4])"
      ]
     },
     "execution_count": 91,
     "metadata": {},
     "output_type": "execute_result"
    }
   ],
   "source": [
    "data * 2"
   ]
  },
  {
   "cell_type": "markdown",
   "id": "87b6e0e8",
   "metadata": {},
   "source": [
    "## More Array Operations"
   ]
  },
  {
   "cell_type": "code",
   "execution_count": 93,
   "id": "be1b9ae1",
   "metadata": {},
   "outputs": [
    {
     "name": "stdout",
     "output_type": "stream",
     "text": [
      "[[0.45353534 0.14431448 0.34340058 0.55515956]\n",
      " [0.54624892 0.05148537 0.40002414 0.55641231]\n",
      " [0.12692414 0.82423243 0.26359324 0.56917102]]\n"
     ]
    }
   ],
   "source": [
    "A = np.array([[0.45353534, 0.14431448, 0.34340058, 0.55515956], \n",
    "             [0.54624892, 0.051485372, 0.40002414, 0.55641231], \n",
    "             [0.12692414, 0.824232434, 0.26359324, 0.56917102]])\n",
    "print(A)"
   ]
  },
  {
   "cell_type": "code",
   "execution_count": 96,
   "id": "55326655",
   "metadata": {},
   "outputs": [
    {
     "data": {
      "text/plain": [
       "4.834501535999999"
      ]
     },
     "execution_count": 96,
     "metadata": {},
     "output_type": "execute_result"
    }
   ],
   "source": [
    "A.sum()"
   ]
  },
  {
   "cell_type": "code",
   "execution_count": 97,
   "id": "8a9ff413",
   "metadata": {},
   "outputs": [
    {
     "data": {
      "text/plain": [
       "0.051485372"
      ]
     },
     "execution_count": 97,
     "metadata": {},
     "output_type": "execute_result"
    }
   ],
   "source": [
    "A.min()"
   ]
  },
  {
   "cell_type": "code",
   "execution_count": 98,
   "id": "55b843c2",
   "metadata": {},
   "outputs": [
    {
     "data": {
      "text/plain": [
       "array([0.12692414, 0.05148537, 0.26359324, 0.55515956])"
      ]
     },
     "execution_count": 98,
     "metadata": {},
     "output_type": "execute_result"
    }
   ],
   "source": [
    "A.min(axis=0)"
   ]
  },
  {
   "cell_type": "code",
   "execution_count": 99,
   "id": "c71c25c8",
   "metadata": {},
   "outputs": [
    {
     "data": {
      "text/plain": [
       "0.824232434"
      ]
     },
     "execution_count": 99,
     "metadata": {},
     "output_type": "execute_result"
    }
   ],
   "source": [
    "A.max()"
   ]
  },
  {
   "cell_type": "code",
   "execution_count": 100,
   "id": "b694edd3",
   "metadata": {},
   "outputs": [
    {
     "data": {
      "text/plain": [
       "array([0.55515956, 0.55641231, 0.82423243])"
      ]
     },
     "execution_count": 100,
     "metadata": {},
     "output_type": "execute_result"
    }
   ],
   "source": [
    "A.max(axis=1)"
   ]
  },
  {
   "cell_type": "code",
   "execution_count": 101,
   "id": "9c5846d4",
   "metadata": {},
   "outputs": [
    {
     "data": {
      "text/plain": [
       "0.2168918951585063"
      ]
     },
     "execution_count": 101,
     "metadata": {},
     "output_type": "execute_result"
    }
   ],
   "source": [
    "A.std()"
   ]
  },
  {
   "cell_type": "markdown",
   "id": "62734a95",
   "metadata": {},
   "source": [
    "## Creating Matrices"
   ]
  },
  {
   "cell_type": "code",
   "execution_count": 102,
   "id": "ba961b37",
   "metadata": {},
   "outputs": [
    {
     "data": {
      "text/plain": [
       "array([[1, 2],\n",
       "       [3, 4]])"
      ]
     },
     "execution_count": 102,
     "metadata": {},
     "output_type": "execute_result"
    }
   ],
   "source": [
    "np.array([[1,2], [3,4]])"
   ]
  },
  {
   "cell_type": "markdown",
   "id": "2406e1cd",
   "metadata": {},
   "source": [
    "print(np.ones((3,2)))\n",
    "print(np.zeros((3,2)))\n",
    "print(np.random.random((3,2)))"
   ]
  },
  {
   "cell_type": "markdown",
   "id": "a7e400fe",
   "metadata": {},
   "source": [
    "## Matrix Arithmetic"
   ]
  },
  {
   "cell_type": "code",
   "execution_count": 106,
   "id": "cb50194d",
   "metadata": {},
   "outputs": [
    {
     "name": "stdout",
     "output_type": "stream",
     "text": [
      "[[1 2]\n",
      " [3 4]]\n"
     ]
    }
   ],
   "source": [
    "data = np.array([[1,2], [3,4]])\n",
    "print(data)"
   ]
  },
  {
   "cell_type": "code",
   "execution_count": 107,
   "id": "c048e4d1",
   "metadata": {},
   "outputs": [
    {
     "name": "stdout",
     "output_type": "stream",
     "text": [
      "[[1. 1.]\n",
      " [1. 1.]]\n"
     ]
    }
   ],
   "source": [
    "ones = np.ones([2,2])\n",
    "print(ones)"
   ]
  },
  {
   "cell_type": "code",
   "execution_count": 108,
   "id": "a4a64101",
   "metadata": {},
   "outputs": [
    {
     "name": "stdout",
     "output_type": "stream",
     "text": [
      "[[2. 3.]\n",
      " [4. 5.]]\n"
     ]
    }
   ],
   "source": [
    "print(data + ones)"
   ]
  },
  {
   "cell_type": "code",
   "execution_count": 109,
   "id": "a9b5262b",
   "metadata": {},
   "outputs": [
    {
     "name": "stdout",
     "output_type": "stream",
     "text": [
      "[[1. 1.]]\n"
     ]
    }
   ],
   "source": [
    "ones_row = np.ones([1,2])\n",
    "print(ones_row)"
   ]
  },
  {
   "cell_type": "code",
   "execution_count": 110,
   "id": "f9e1e91a",
   "metadata": {},
   "outputs": [
    {
     "name": "stdout",
     "output_type": "stream",
     "text": [
      "[[2. 3.]\n",
      " [4. 5.]]\n"
     ]
    }
   ],
   "source": [
    "print(data + ones_row)"
   ]
  },
  {
   "cell_type": "markdown",
   "id": "c3984589",
   "metadata": {},
   "source": [
    "## Dot Product"
   ]
  },
  {
   "cell_type": "code",
   "execution_count": 116,
   "id": "01b8acd2",
   "metadata": {},
   "outputs": [
    {
     "name": "stdout",
     "output_type": "stream",
     "text": [
      "[[1 2 3]\n",
      " [4 5 6]]\n",
      "(2, 3)\n",
      "[[ 7  8]\n",
      " [ 9 10]\n",
      " [11 12]]\n",
      "(3, 2)\n"
     ]
    }
   ],
   "source": [
    "a_1 = np.array([[1,2,3], [4,5,6]])\n",
    "print(a_1)\n",
    "print(a_1.shape)\n",
    "\n",
    "a_2 = np.array([[7,8], [9,10], [11,12]])\n",
    "print(a_2)\n",
    "print(a_2.shape)"
   ]
  },
  {
   "cell_type": "code",
   "execution_count": 117,
   "id": "af02d201",
   "metadata": {},
   "outputs": [
    {
     "data": {
      "text/plain": [
       "array([[ 58,  64],\n",
       "       [139, 154]])"
      ]
     },
     "execution_count": 117,
     "metadata": {},
     "output_type": "execute_result"
    }
   ],
   "source": [
    "np.dot(a_1, a_2)"
   ]
  },
  {
   "cell_type": "markdown",
   "id": "df911880",
   "metadata": {},
   "source": [
    "## Matrix Indexing"
   ]
  },
  {
   "cell_type": "code",
   "execution_count": 118,
   "id": "96eddde2",
   "metadata": {},
   "outputs": [
    {
     "name": "stdout",
     "output_type": "stream",
     "text": [
      "[[1 2]\n",
      " [3 4]\n",
      " [5 6]]\n",
      "[1 2]\n",
      "[3 4]\n",
      "[5 6]\n",
      "2\n",
      "[[3 4]\n",
      " [5 6]]\n",
      "[2 4]\n"
     ]
    }
   ],
   "source": [
    "data = np.array([[1,2], [3,4], [5,6]])\n",
    "\n",
    "print(data)\n",
    "print(data[0])\n",
    "print(data[1])\n",
    "print(data[2])\n",
    "print(data[0,1])\n",
    "print(data[1:3])\n",
    "print(data[0:2,1])"
   ]
  },
  {
   "cell_type": "markdown",
   "id": "8daf9477",
   "metadata": {},
   "source": [
    "## Matrix Aggregation"
   ]
  },
  {
   "cell_type": "code",
   "execution_count": 119,
   "id": "f8b35f0f",
   "metadata": {},
   "outputs": [
    {
     "name": "stdout",
     "output_type": "stream",
     "text": [
      "[[1 2]\n",
      " [3 4]\n",
      " [5 6]]\n"
     ]
    }
   ],
   "source": [
    "print(data)"
   ]
  },
  {
   "cell_type": "code",
   "execution_count": 120,
   "id": "627d9c48",
   "metadata": {},
   "outputs": [
    {
     "name": "stdout",
     "output_type": "stream",
     "text": [
      "6\n",
      "1\n",
      "21\n"
     ]
    }
   ],
   "source": [
    "print(data.max())\n",
    "print(data.min())\n",
    "print(data.sum())"
   ]
  },
  {
   "cell_type": "code",
   "execution_count": 121,
   "id": "e9c03f20",
   "metadata": {},
   "outputs": [
    {
     "name": "stdout",
     "output_type": "stream",
     "text": [
      "[5 6]\n",
      "[2 4 6]\n"
     ]
    }
   ],
   "source": [
    "print(data.max(axis=0))\n",
    "print(data.max(axis=1))"
   ]
  },
  {
   "cell_type": "markdown",
   "id": "c0bad1ec",
   "metadata": {},
   "source": [
    "## Transposing anda Reshaping"
   ]
  },
  {
   "cell_type": "code",
   "execution_count": 122,
   "id": "e357b0d9",
   "metadata": {},
   "outputs": [
    {
     "name": "stdout",
     "output_type": "stream",
     "text": [
      "[[1 2]\n",
      " [3 4]\n",
      " [5 6]]\n"
     ]
    }
   ],
   "source": [
    "print(data)"
   ]
  },
  {
   "cell_type": "code",
   "execution_count": 123,
   "id": "fa37cc8c",
   "metadata": {},
   "outputs": [
    {
     "name": "stdout",
     "output_type": "stream",
     "text": [
      "[[1 3 5]\n",
      " [2 4 6]]\n"
     ]
    }
   ],
   "source": [
    "print(data.T)"
   ]
  },
  {
   "cell_type": "code",
   "execution_count": 124,
   "id": "5fe4ee36",
   "metadata": {},
   "outputs": [
    {
     "name": "stdout",
     "output_type": "stream",
     "text": [
      "[[1]\n",
      " [2]\n",
      " [3]\n",
      " [4]\n",
      " [5]\n",
      " [6]]\n"
     ]
    }
   ],
   "source": [
    "data_col = np.array([[1,2,3,4,5,6]]).T\n",
    "print(data_col)"
   ]
  },
  {
   "cell_type": "code",
   "execution_count": 125,
   "id": "a8cf1e92",
   "metadata": {},
   "outputs": [
    {
     "data": {
      "text/plain": [
       "array([[1, 2, 3],\n",
       "       [4, 5, 6]])"
      ]
     },
     "execution_count": 125,
     "metadata": {},
     "output_type": "execute_result"
    }
   ],
   "source": [
    "data_col.reshape(2,3)"
   ]
  },
  {
   "cell_type": "code",
   "execution_count": 126,
   "id": "459d61b5",
   "metadata": {},
   "outputs": [
    {
     "data": {
      "text/plain": [
       "array([[1, 2],\n",
       "       [3, 4],\n",
       "       [5, 6]])"
      ]
     },
     "execution_count": 126,
     "metadata": {},
     "output_type": "execute_result"
    }
   ],
   "source": [
    "data_col.reshape(3,2)"
   ]
  },
  {
   "cell_type": "code",
   "execution_count": 128,
   "id": "9be1a0bd",
   "metadata": {},
   "outputs": [
    {
     "name": "stdout",
     "output_type": "stream",
     "text": [
      "[[0 1 2]\n",
      " [3 4 5]]\n"
     ]
    }
   ],
   "source": [
    "arr = np.arange(6).reshape((2,3))\n",
    "print(arr)"
   ]
  },
  {
   "cell_type": "markdown",
   "id": "d0410c1d",
   "metadata": {},
   "source": [
    "## N-Dimensional Array"
   ]
  },
  {
   "cell_type": "code",
   "execution_count": 129,
   "id": "94519886",
   "metadata": {},
   "outputs": [
    {
     "name": "stdout",
     "output_type": "stream",
     "text": [
      "[[[1 2]\n",
      "  [3 4]]\n",
      "\n",
      " [[5 6]\n",
      "  [7 8]]]\n"
     ]
    }
   ],
   "source": [
    "ndarr = np.array([[[1,2], [3,4]],\n",
    "                [[5,6], [7,8]]])\n",
    "print(ndarr)"
   ]
  },
  {
   "cell_type": "code",
   "execution_count": 130,
   "id": "c00c9744",
   "metadata": {},
   "outputs": [
    {
     "name": "stdout",
     "output_type": "stream",
     "text": [
      "[[[1. 1.]\n",
      "  [1. 1.]\n",
      "  [1. 1.]]\n",
      "\n",
      " [[1. 1.]\n",
      "  [1. 1.]\n",
      "  [1. 1.]]\n",
      "\n",
      " [[1. 1.]\n",
      "  [1. 1.]\n",
      "  [1. 1.]]\n",
      "\n",
      " [[1. 1.]\n",
      "  [1. 1.]\n",
      "  [1. 1.]]]\n"
     ]
    }
   ],
   "source": [
    "print(np.ones((4,3,2)))"
   ]
  },
  {
   "cell_type": "code",
   "execution_count": 131,
   "id": "71d3243a",
   "metadata": {},
   "outputs": [
    {
     "name": "stdout",
     "output_type": "stream",
     "text": [
      "[[[0. 0.]\n",
      "  [0. 0.]\n",
      "  [0. 0.]]\n",
      "\n",
      " [[0. 0.]\n",
      "  [0. 0.]\n",
      "  [0. 0.]]\n",
      "\n",
      " [[0. 0.]\n",
      "  [0. 0.]\n",
      "  [0. 0.]]\n",
      "\n",
      " [[0. 0.]\n",
      "  [0. 0.]\n",
      "  [0. 0.]]]\n"
     ]
    }
   ],
   "source": [
    "print(np.zeros((4,3,2)))"
   ]
  },
  {
   "cell_type": "code",
   "execution_count": 132,
   "id": "ffb6cc81",
   "metadata": {},
   "outputs": [
    {
     "name": "stdout",
     "output_type": "stream",
     "text": [
      "[[[0.78129969 0.68313943]\n",
      "  [0.39284924 0.8330885 ]\n",
      "  [0.32337356 0.5880583 ]]\n",
      "\n",
      " [[0.72542504 0.61341184]\n",
      "  [0.44946414 0.42214917]\n",
      "  [0.96268688 0.9964522 ]]\n",
      "\n",
      " [[0.62419395 0.47503803]\n",
      "  [0.40320006 0.42216285]\n",
      "  [0.59817028 0.5084704 ]]\n",
      "\n",
      " [[0.75109168 0.80440928]\n",
      "  [0.33944758 0.2448576 ]\n",
      "  [0.58166184 0.61070523]]]\n"
     ]
    }
   ],
   "source": [
    "print(np.random.random((4,3,2)))"
   ]
  },
  {
   "cell_type": "markdown",
   "id": "2796afea",
   "metadata": {},
   "source": [
    "## Flatten N-Dimensional Array"
   ]
  },
  {
   "cell_type": "code",
   "execution_count": 133,
   "id": "4f7a28ca",
   "metadata": {},
   "outputs": [
    {
     "name": "stdout",
     "output_type": "stream",
     "text": [
      "[[ 1  2  3  4]\n",
      " [ 5  6  7  8]\n",
      " [ 9 10 11 12]]\n"
     ]
    }
   ],
   "source": [
    "arrflat = np.array([[1,2,3,4], [5,6,7,8], [9,10,11,12]])\n",
    "\n",
    "print(arrflat)"
   ]
  },
  {
   "cell_type": "code",
   "execution_count": 134,
   "id": "d3a5a998",
   "metadata": {},
   "outputs": [
    {
     "data": {
      "text/plain": [
       "array([ 1,  2,  3,  4,  5,  6,  7,  8,  9, 10, 11, 12])"
      ]
     },
     "execution_count": 134,
     "metadata": {},
     "output_type": "execute_result"
    }
   ],
   "source": [
    "arrflat.flatten()"
   ]
  },
  {
   "cell_type": "markdown",
   "id": "036f5c7d",
   "metadata": {},
   "source": [
    "## Working with Math Formulas"
   ]
  },
  {
   "cell_type": "markdown",
   "id": "0c6a428b",
   "metadata": {},
   "source": [
    "error = (1/n) * np.sum(np.square(observed - prediction))"
   ]
  },
  {
   "cell_type": "code",
   "execution_count": null,
   "id": "e22f143e",
   "metadata": {},
   "outputs": [],
   "source": []
  }
 ],
 "metadata": {
  "kernelspec": {
   "display_name": "Python 3",
   "language": "python",
   "name": "python3"
  },
  "language_info": {
   "codemirror_mode": {
    "name": "ipython",
    "version": 3
   },
   "file_extension": ".py",
   "mimetype": "text/x-python",
   "name": "python",
   "nbconvert_exporter": "python",
   "pygments_lexer": "ipython3",
   "version": "3.8.8"
  }
 },
 "nbformat": 4,
 "nbformat_minor": 5
}
